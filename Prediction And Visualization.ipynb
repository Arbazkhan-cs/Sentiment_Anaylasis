{
 "cells": [
  {
   "cell_type": "markdown",
   "id": "4f48ad16",
   "metadata": {},
   "source": [
    "# Prediction and Visualization"
   ]
  },
  {
   "cell_type": "code",
   "execution_count": 2,
   "id": "89f643a3",
   "metadata": {},
   "outputs": [],
   "source": [
    "import numpy as np\n",
    "import pandas as pd\n",
    "import matplotlib.pyplot as plt\n",
    "\n",
    "from keras.models import load_model"
   ]
  },
  {
   "cell_type": "markdown",
   "id": "81b918fc",
   "metadata": {},
   "source": [
    "## Load Model"
   ]
  },
  {
   "cell_type": "code",
   "execution_count": 3,
   "id": "da23d20c",
   "metadata": {},
   "outputs": [],
   "source": [
    "model = load_model(\"model.h5\")"
   ]
  },
  {
   "cell_type": "code",
   "execution_count": 4,
   "id": "aca9ecca",
   "metadata": {},
   "outputs": [
    {
     "name": "stdout",
     "output_type": "stream",
     "text": [
      "Model: \"sequential\"\n",
      "_________________________________________________________________\n",
      " Layer (type)                Output Shape              Param #   \n",
      "=================================================================\n",
      " embedding (Embedding)       (None, None, 2)           100000    \n",
      "                                                                 \n",
      " simple_rnn (SimpleRNN)      (None, 32)                1120      \n",
      "                                                                 \n",
      " dense (Dense)               (None, 4)                 132       \n",
      "                                                                 \n",
      "=================================================================\n",
      "Total params: 101252 (395.52 KB)\n",
      "Trainable params: 101252 (395.52 KB)\n",
      "Non-trainable params: 0 (0.00 Byte)\n",
      "_________________________________________________________________\n"
     ]
    }
   ],
   "source": [
    "model.summary()"
   ]
  },
  {
   "cell_type": "code",
   "execution_count": 5,
   "id": "48671e07",
   "metadata": {},
   "outputs": [
    {
     "data": {
      "text/plain": [
       "[<tf.Variable 'embedding/embeddings:0' shape=(50000, 2) dtype=float32, numpy=\n",
       " array([[-0.02316587, -0.0529995 ],\n",
       "        [ 0.00514308, -0.07473961],\n",
       "        [-0.00234021, -0.00584784],\n",
       "        ...,\n",
       "        [ 0.0339321 , -0.04970207],\n",
       "        [-0.00370621,  0.00120028],\n",
       "        [ 0.02638173, -0.04341106]], dtype=float32)>,\n",
       " <tf.Variable 'simple_rnn/simple_rnn_cell/kernel:0' shape=(2, 32) dtype=float32, numpy=\n",
       " array([[-1.1351974 ,  1.3304088 ,  0.43811062,  0.1239244 , -0.7479068 ,\n",
       "         -0.0592557 , -1.5661362 , -0.6425224 , -0.6453814 , -0.6560566 ,\n",
       "          0.75704   ,  0.6883162 ,  0.8910414 ,  0.6694602 , -0.8867188 ,\n",
       "         -0.10919014, -0.8499609 , -0.77038294, -0.48540455,  0.2518689 ,\n",
       "         -0.19273327,  0.6620158 , -0.11643434, -0.2722773 , -0.21546745,\n",
       "         -0.4086157 ,  0.47624427,  0.5301178 , -1.1423492 , -1.0118418 ,\n",
       "          0.7487683 , -0.53140503],\n",
       "        [ 0.0839709 , -0.28385514, -1.0120618 ,  0.78355026,  0.19657607,\n",
       "          0.56951547, -0.53678507,  0.65879583,  0.10721575, -0.0691582 ,\n",
       "         -1.0717998 , -1.1455344 ,  0.31376255, -0.06486779,  0.6876373 ,\n",
       "          1.0577749 , -0.09353623, -0.20970441,  0.9182932 ,  0.673621  ,\n",
       "          0.6864169 ,  1.1218171 , -0.10813071,  0.62175274, -0.6790405 ,\n",
       "         -0.39490256,  0.6649856 , -0.5334547 ,  0.15887049,  0.05966763,\n",
       "         -0.99340737,  0.48871124]], dtype=float32)>,\n",
       " <tf.Variable 'simple_rnn/simple_rnn_cell/recurrent_kernel:0' shape=(32, 32) dtype=float32, numpy=\n",
       " array([[ 0.32404524, -0.3093297 ,  0.16010092, ...,  0.48833352,\n",
       "         -0.04547769,  0.1592723 ],\n",
       "        [-0.19424634,  0.38855636,  0.02428702, ..., -0.12656872,\n",
       "          0.25590667,  0.05121177],\n",
       "        [-0.30901793, -0.09911431,  0.18789053, ...,  0.14699757,\n",
       "          0.16968799, -0.05875218],\n",
       "        ...,\n",
       "        [ 0.0024897 ,  0.00647998,  0.11923057, ..., -0.08102866,\n",
       "          0.33065295,  0.19346127],\n",
       "        [ 0.03177581,  0.11086134,  0.25687906, ...,  0.30027676,\n",
       "          0.26333588, -0.01112218],\n",
       "        [ 0.11706285, -0.24855478, -0.05751419, ...,  0.03212895,\n",
       "          0.11856718, -0.02032782]], dtype=float32)>,\n",
       " <tf.Variable 'simple_rnn/simple_rnn_cell/bias:0' shape=(32,) dtype=float32, numpy=\n",
       " array([ 4.34463378e-03, -5.68919852e-02, -7.38492832e-02,  1.18448280e-01,\n",
       "         1.52753964e-01, -4.02585156e-02, -8.39554593e-02,  1.54518522e-02,\n",
       "         2.75861621e-02, -8.17905217e-02, -1.51731029e-01, -5.23901097e-02,\n",
       "         4.19100179e-05, -4.03535701e-02,  5.66935316e-02,  3.09690535e-01,\n",
       "        -1.25927582e-01,  1.39085734e-02,  1.56867802e-01, -3.82794924e-02,\n",
       "         6.01544157e-02,  7.57998452e-02, -5.96274957e-02,  1.17591649e-01,\n",
       "        -1.25868320e-01,  1.08693596e-02,  8.46590027e-02, -7.13537782e-02,\n",
       "         1.34181818e-02,  5.97952195e-02, -1.62040561e-01,  1.11834124e-01],\n",
       "       dtype=float32)>,\n",
       " <tf.Variable 'dense/kernel:0' shape=(32, 4) dtype=float32, numpy=\n",
       " array([[-2.79812843e-01, -1.60249442e-01,  2.93980479e-01,\n",
       "          3.78264815e-01],\n",
       "        [-1.24407463e-01, -7.00213388e-02,  2.67172486e-01,\n",
       "          3.91117111e-02],\n",
       "        [ 1.87086210e-01,  5.49829960e-01, -1.18871974e-02,\n",
       "          4.28158611e-01],\n",
       "        [ 1.90507218e-01, -9.33419690e-02, -1.02528498e-01,\n",
       "         -2.14091569e-01],\n",
       "        [-1.67427570e-01,  1.87514454e-01,  2.88091511e-01,\n",
       "         -1.11520059e-01],\n",
       "        [ 2.67969251e-01, -7.96143040e-02, -4.77753371e-01,\n",
       "          5.02810121e-01],\n",
       "        [ 3.36284518e-01, -2.26784751e-01, -2.06489533e-01,\n",
       "          3.72370064e-01],\n",
       "        [ 2.50006676e-01, -4.85101014e-01, -2.92476296e-01,\n",
       "          1.24081753e-01],\n",
       "        [ 2.24896938e-01, -2.44520307e-01,  2.20110625e-01,\n",
       "         -2.68095374e-01],\n",
       "        [ 2.26157010e-01,  3.40555906e-01,  2.09156752e-01,\n",
       "         -2.30262697e-01],\n",
       "        [ 1.37543142e-01, -3.60990256e-01, -1.37848720e-01,\n",
       "          2.87422836e-02],\n",
       "        [ 8.64964537e-03,  2.52539545e-01,  9.82653257e-03,\n",
       "          2.57145286e-01],\n",
       "        [-2.95121558e-02,  6.17431067e-02, -1.30837839e-02,\n",
       "          5.60354553e-02],\n",
       "        [-1.46715179e-01, -3.09169646e-02, -7.30649173e-01,\n",
       "          2.37535343e-01],\n",
       "        [ 3.23829770e-01,  7.05563903e-01, -7.00072050e-02,\n",
       "          1.07741401e-01],\n",
       "        [-5.04350141e-02,  1.55634552e-01, -4.64172691e-01,\n",
       "         -2.49882296e-01],\n",
       "        [-2.18372568e-01,  4.81540024e-01, -8.99135917e-02,\n",
       "          5.09510100e-01],\n",
       "        [ 2.39211366e-01, -3.67694825e-01,  1.76025987e-01,\n",
       "         -7.24127367e-02],\n",
       "        [-3.77138168e-01,  1.55677050e-01,  2.26823673e-01,\n",
       "         -2.82535613e-01],\n",
       "        [ 2.48919383e-01,  2.58400708e-01,  2.58504659e-01,\n",
       "          4.55758035e-01],\n",
       "        [ 4.77557480e-02,  9.76463705e-02,  6.26833260e-01,\n",
       "          3.39357331e-02],\n",
       "        [ 9.36291292e-02, -8.50012898e-02,  6.27225935e-02,\n",
       "         -2.54687309e-01],\n",
       "        [ 2.65810609e-01, -3.08929920e-01,  8.02269205e-02,\n",
       "          2.00682819e-01],\n",
       "        [-3.43713075e-01,  1.62694186e-01,  3.68802786e-01,\n",
       "         -4.31387350e-02],\n",
       "        [-8.56169015e-02, -4.14412379e-01,  2.32555211e-01,\n",
       "          3.48815590e-01],\n",
       "        [-2.28180975e-01,  9.48848650e-02, -4.79898363e-01,\n",
       "         -1.62754342e-01],\n",
       "        [ 2.18503132e-01, -4.67506051e-01,  4.24722163e-03,\n",
       "          2.88494319e-01],\n",
       "        [ 3.87020409e-01, -2.77010491e-04,  1.02962904e-01,\n",
       "         -3.30196202e-01],\n",
       "        [-1.12707146e-01,  2.33943716e-01,  2.73831367e-01,\n",
       "         -2.02819034e-01],\n",
       "        [-3.06307107e-01,  3.49162444e-02, -1.71442032e-01,\n",
       "         -7.63558671e-02],\n",
       "        [ 4.22385395e-01,  2.02343777e-01, -3.20745379e-01,\n",
       "         -4.19030339e-02],\n",
       "        [ 2.46462092e-01,  3.44602108e-01, -2.44789973e-01,\n",
       "         -9.09113325e-03]], dtype=float32)>,\n",
       " <tf.Variable 'dense/bias:0' shape=(4,) dtype=float32, numpy=array([-0.40682298,  0.8541341 , -0.04228617, -0.45436558], dtype=float32)>]"
      ]
     },
     "execution_count": 5,
     "metadata": {},
     "output_type": "execute_result"
    }
   ],
   "source": [
    "model.weights"
   ]
  },
  {
   "cell_type": "markdown",
   "id": "43cababf",
   "metadata": {},
   "source": [
    "## Load History"
   ]
  },
  {
   "cell_type": "code",
   "execution_count": 6,
   "id": "4837325e",
   "metadata": {},
   "outputs": [],
   "source": [
    "import json"
   ]
  },
  {
   "cell_type": "code",
   "execution_count": 7,
   "id": "1494ee14",
   "metadata": {},
   "outputs": [],
   "source": [
    "with open(\"history.json\", \"r\") as f:\n",
    "    history = json.load(f)"
   ]
  },
  {
   "cell_type": "code",
   "execution_count": 10,
   "id": "3468a941",
   "metadata": {},
   "outputs": [],
   "source": [
    "loss = history['loss'][0]\n",
    "accuracy = history['accuracy'][0]"
   ]
  },
  {
   "cell_type": "code",
   "execution_count": 12,
   "id": "4454d66f",
   "metadata": {},
   "outputs": [
    {
     "name": "stdout",
     "output_type": "stream",
     "text": [
      "Loss = [1.3679, 1.2663, 1.141, 1.0503, 1.0, 1.1192, 0.9351, 0.8304, 0.7746, 0.7176, 0.7151, 0.6603, 0.6378, 0.6475, 0.6385, 0.6344, 0.5845, 0.5538, 0.7746, 0.7176, 0.7151, 0.6603, 0.6378, 0.6475, 0.6385, 0.6344, 0.5845, 0.5538]\n"
     ]
    }
   ],
   "source": [
    "print(f\"Loss = {loss}\")"
   ]
  },
  {
   "cell_type": "code",
   "execution_count": 13,
   "id": "812b7db9",
   "metadata": {},
   "outputs": [
    {
     "name": "stdout",
     "output_type": "stream",
     "text": [
      "Accuracy = [0.2983, 0.3037, 0.3303, 0.4245, 0.5256, 0.5782, 0.6015, 0.5366, 0.6346, 0.6908, 0.72, 0.7496, 0.7474, 0.7751, 0.7843, 0.7783, 0.7819, 0.7847, 0.808, 0.8189, 0.72, 0.7496, 0.7474, 0.7751, 0.7843, 0.7783, 0.7819, 0.7847, 0.808, 0.8189]\n"
     ]
    }
   ],
   "source": [
    "print(f\"Accuracy = {accuracy}\")"
   ]
  },
  {
   "cell_type": "markdown",
   "id": "26b2559a",
   "metadata": {},
   "source": [
    "## Visualizing the loss and accuracy"
   ]
  },
  {
   "cell_type": "code",
   "execution_count": 28,
   "id": "1d0d0685",
   "metadata": {},
   "outputs": [
    {
     "data": {
      "image/png": "[encoded data removed]",
      "text/plain": [
       "<Figure size 640x480 with 1 Axes>"
      ]
     },
     "metadata": {},
     "output_type": "display_data"
    }
   ],
   "source": [
    "epochs = len(loss)\n",
    "plt.plot([i for i in range(epochs)], loss, label=\"loss\")\n",
    "plt.plot([i for i in range(epochs+2)], accuracy, label=\"accuracy\")\n",
    "plt.title(\"Loss vs Accuracy\")\n",
    "plt.xlabel(\"Epochs\")\n",
    "plt.ylabel(\"Loss/Accuracy\")\n",
    "plt.grid()\n",
    "plt.legend()\n",
    "plt.show()"
   ]
  },
  {
   "cell_type": "markdown",
   "id": "a98e3abe",
   "metadata": {},
   "source": [
    "## Prediction"
   ]
  },
  {
   "cell_type": "code",
   "execution_count": 91,
   "id": "4fc6950d",
   "metadata": {},
   "outputs": [],
   "source": [
    "from keras.utils import pad_sequences\n",
    "from keras.preprocessing.text import Tokenizer\n",
    "from tqdm import tqdm\n",
    "import re\n",
    "import pandas as pd\n",
    "\n",
    "def process_tweet(text):\n",
    "    text = re.sub(r'http\\S+|www\\S+', '', text)\n",
    "    text = re.sub(r'[^\\w\\s\\']', '', text)\n",
    "    filtered_tokens = [token for token in text.split() if len(token) > 1]\n",
    "    processed_text = ' '.join(filtered_tokens)\n",
    "    return processed_text\n",
    "\n",
    "\n",
    "def prepare_data(df):\n",
    "    processed_tweets = []\n",
    "    for line in tqdm(df[\"Tweet\"]):\n",
    "        processed_tweets.append(process_tweet(line))\n",
    "    return processed_tweets\n",
    "\n",
    "\n",
    "def predict_sentiment(text, tokenizer):\n",
    "    seq = tokenizer.texts_to_sequences(text)\n",
    "    seq = pad_sequences(seq, maxlen=150, padding=\"post\")\n",
    "    print(seq)\n",
    "    \n",
    "    pred = model.predict(seq)\n",
    "    map = {0:\"Positive\", 1:\"Neutral\", 2:\"Negative\", 3:\"Irrevelent\"}\n",
    "    return map[np.argmax(pred)]"
   ]
  },
  {
   "cell_type": "code",
   "execution_count": 92,
   "id": "0ed6e9ad",
   "metadata": {},
   "outputs": [
    {
     "name": "stderr",
     "output_type": "stream",
     "text": [
      "100%|█████████████████████████████████████████████████████████████████████████| 73996/73996 [00:02<00:00, 30264.02it/s]\n"
     ]
    }
   ],
   "source": [
    "df = pd.read_csv(\"twitter_training.csv\", header=None, names=[\"ID\", \"Game\", \"Sentiment\", \"Tweet\"])\n",
    "df.dropna(inplace=True)\n",
    "\n",
    "tweets = prepare_data(df)\n",
    "\n",
    "tokenizer = Tokenizer()\n",
    "tokenizer.fit_on_texts(tweets)"
   ]
  },
  {
   "cell_type": "code",
   "execution_count": 96,
   "id": "f51ea636",
   "metadata": {},
   "outputs": [
    {
     "name": "stdout",
     "output_type": "stream",
     "text": [
      "[[    1   696 16300     7    12   239     0     0     0     0     0     0\n",
      "      0     0     0     0     0     0     0     0     0     0     0     0\n",
      "      0     0     0     0     0     0     0     0     0     0     0     0\n",
      "      0     0     0     0     0     0     0     0     0     0     0     0\n",
      "      0     0     0     0     0     0     0     0     0     0     0     0\n",
      "      0     0     0     0     0     0     0     0     0     0     0     0\n",
      "      0     0     0     0     0     0     0     0     0     0     0     0\n",
      "      0     0     0     0     0     0     0     0     0     0     0     0\n",
      "      0     0     0     0     0     0     0     0     0     0     0     0\n",
      "      0     0     0     0     0     0     0     0     0     0     0     0\n",
      "      0     0     0     0     0     0     0     0     0     0     0     0\n",
      "      0     0     0     0     0     0     0     0     0     0     0     0\n",
      "      0     0     0     0     0     0]]\n",
      "1/1 [==============================] - 0s 136ms/step\n"
     ]
    },
    {
     "data": {
      "text/plain": [
       "('Negative',\n",
       " array([[0.0095458 , 0.01779861, 0.9670862 , 0.0055695 ]], dtype=float32))"
      ]
     },
     "execution_count": 96,
     "metadata": {},
     "output_type": "execute_result"
    }
   ],
   "source": [
    "text = [\"the biggest dissappoinment in my life\"]\n",
    "predict_sentiment(text, tokenizer)"
   ]
  },
  {
   "cell_type": "code",
   "execution_count": null,
   "id": "7cb6c7be",
   "metadata": {},
   "outputs": [],
   "source": []
  }
 ],
 "metadata": {
  "kernelspec": {
   "display_name": "Python 3 (ipykernel)",
   "language": "python",
   "name": "python3"
  },
  "language_info": {
   "codemirror_mode": {
    "name": "ipython",
    "version": 3
   },
   "file_extension": ".py",
   "mimetype": "text/x-python",
   "name": "python",
   "nbconvert_exporter": "python",
   "pygments_lexer": "ipython3",
   "version": "3.11.3"
  }
 },
 "nbformat": 4,
 "nbformat_minor": 5
}
